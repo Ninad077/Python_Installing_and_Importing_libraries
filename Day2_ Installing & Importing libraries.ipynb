{
 "cells": [
  {
   "cell_type": "markdown",
   "id": "fe2ca79e",
   "metadata": {},
   "source": [
    "# Day2: Installing & Importing libraries"
   ]
  },
  {
   "cell_type": "markdown",
   "id": "47726d30",
   "metadata": {},
   "source": [
    "Python for Data Science roadmap"
   ]
  },
  {
   "cell_type": "code",
   "execution_count": 1,
   "id": "58ecd666",
   "metadata": {},
   "outputs": [],
   "source": [
    "# Data preprocessing - ML ##\n",
    "\n",
    "# Pandas\n",
    "# numpy\n",
    "# Matplotlib\n",
    "# seaborn\n",
    "\n",
    "## Machine Learning ##\n",
    "\n",
    "# sklearn\n",
    "# statsmodel\n",
    "\n",
    "## deep learning ##\n",
    "\n",
    "# opencv\n",
    "# tensorflow\n",
    "# NLTK"
   ]
  },
  {
   "cell_type": "markdown",
   "id": "69b9007e",
   "metadata": {},
   "source": [
    "Installing Panda library"
   ]
  },
  {
   "cell_type": "code",
   "execution_count": 5,
   "id": "86246f83",
   "metadata": {},
   "outputs": [
    {
     "name": "stdout",
     "output_type": "stream",
     "text": [
      "Requirement already satisfied: pandas in c:\\users\\ninad\\anaconda3\\lib\\site-packages (2.0.3)\n",
      "Requirement already satisfied: python-dateutil>=2.8.2 in c:\\users\\ninad\\anaconda3\\lib\\site-packages (from pandas) (2.8.2)\n",
      "Requirement already satisfied: pytz>=2020.1 in c:\\users\\ninad\\anaconda3\\lib\\site-packages (from pandas) (2023.3.post1)\n",
      "Requirement already satisfied: tzdata>=2022.1 in c:\\users\\ninad\\anaconda3\\lib\\site-packages (from pandas) (2023.3)\n",
      "Requirement already satisfied: numpy>=1.21.0 in c:\\users\\ninad\\anaconda3\\lib\\site-packages (from pandas) (1.24.3)\n",
      "Requirement already satisfied: six>=1.5 in c:\\users\\ninad\\anaconda3\\lib\\site-packages (from python-dateutil>=2.8.2->pandas) (1.16.0)\n"
     ]
    }
   ],
   "source": [
    "! pip install pandas #pip--> Python installed packages, installing pandas library\n",
    "                     #Simimlarly install numpy, matplotlib.pyplot & seaborn"
   ]
  },
  {
   "cell_type": "markdown",
   "id": "2dfdc9d9",
   "metadata": {},
   "source": [
    "Importing Pandas,Numpy,Matplotlib & Seaborn libraries"
   ]
  },
  {
   "cell_type": "code",
   "execution_count": 5,
   "id": "cfcf0ee7",
   "metadata": {},
   "outputs": [],
   "source": [
    "import pandas as pd       #Importing pandas and giving alias as pd"
   ]
  },
  {
   "cell_type": "code",
   "execution_count": 6,
   "id": "9bbbcfb6",
   "metadata": {},
   "outputs": [],
   "source": [
    "import numpy as np        #Importing numpy and giving alias as np"
   ]
  },
  {
   "cell_type": "code",
   "execution_count": 7,
   "id": "56451b3b",
   "metadata": {},
   "outputs": [],
   "source": [
    "import matplotlib.pyplot as plt   #Importing matplotlib and giving alias as plt"
   ]
  },
  {
   "cell_type": "code",
   "execution_count": 8,
   "id": "2a93ae61",
   "metadata": {},
   "outputs": [],
   "source": [
    "import seaborn as sns              #Importing seaborn and giving alias as sns"
   ]
  },
  {
   "cell_type": "code",
   "execution_count": null,
   "id": "a65c82b7",
   "metadata": {},
   "outputs": [],
   "source": [
    "# To import a function from a library\n",
    "\n",
    "# For pandas ---------->pd.Then press Tab\n",
    "# For numpy ----------->np.Then press Tab\n",
    "# For matplotib ------->plt.Then press Tab\n",
    "# For seaborn --------->sns.Then press Tab\n"
   ]
  }
 ],
 "metadata": {
  "kernelspec": {
   "display_name": "Python 3 (ipykernel)",
   "language": "python",
   "name": "python3"
  },
  "language_info": {
   "codemirror_mode": {
    "name": "ipython",
    "version": 3
   },
   "file_extension": ".py",
   "mimetype": "text/x-python",
   "name": "python",
   "nbconvert_exporter": "python",
   "pygments_lexer": "ipython3",
   "version": "3.11.5"
  }
 },
 "nbformat": 4,
 "nbformat_minor": 5
}
